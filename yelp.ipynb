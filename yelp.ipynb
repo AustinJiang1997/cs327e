{
 "cells": [
  {
   "cell_type": "markdown",
   "metadata": {},
   "source": [
    "### ingest dataset from yelp"
   ]
  },
  {
   "cell_type": "code",
   "execution_count": 3,
   "metadata": {},
   "outputs": [],
   "source": [
    "dataset_id = \"yelp_staging\""
   ]
  },
  {
   "cell_type": "code",
   "execution_count": 4,
   "metadata": {},
   "outputs": [
    {
     "name": "stdout",
     "output_type": "stream",
     "text": [
      "Dataset 'zippy-zenith-267020:yelp_staging' successfully created.\n"
     ]
    }
   ],
   "source": [
    "!bq --location=US mk --dataset {dataset_id}"
   ]
  },
  {
   "cell_type": "code",
   "execution_count": 6,
   "metadata": {},
   "outputs": [
    {
     "name": "stdout",
     "output_type": "stream",
     "text": [
      "Waiting on bqjob_r777f2a13a74ed809_000001700dec8395_1 ... (1s) Current status: DONE   \n",
      "BigQuery error in load operation: Error processing job 'zippy-\n",
      "zenith-267020:bqjob_r777f2a13a74ed809_000001700dec8395_1': Error while reading\n",
      "data, error message: CSV table encountered too many errors, giving up. Rows:\n",
      "672; errors: 1. Please look into the errors[] collection for more details.\n",
      "Failure details:\n",
      "- gs://yelp_csv_data/business.csv: Error while reading data, error\n",
      "message: Could not parse 'None' as bool for field attributes_HasTV\n",
      "(position 44) starting at location 542577\n"
     ]
    }
   ],
   "source": [
    "!bq --location=US load --autodetect --skip_leading_rows=1 \\\n",
    "--source_format=CSV {dataset_id}.Business 'gs://yelp_csv_data/business.csv' \\\n",
    "/home/jupyter/snippet/business_schema.json"
   ]
  },
  {
   "cell_type": "code",
   "execution_count": null,
   "metadata": {},
   "outputs": [],
   "source": []
  }
 ],
 "metadata": {
  "kernelspec": {
   "display_name": "Python 3",
   "language": "python",
   "name": "python3"
  },
  "language_info": {
   "codemirror_mode": {
    "name": "ipython",
    "version": 3
   },
   "file_extension": ".py",
   "mimetype": "text/x-python",
   "name": "python",
   "nbconvert_exporter": "python",
   "pygments_lexer": "ipython3",
   "version": "3.5.3"
  }
 },
 "nbformat": 4,
 "nbformat_minor": 4
}
